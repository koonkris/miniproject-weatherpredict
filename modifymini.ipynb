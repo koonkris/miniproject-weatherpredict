{
 "cells": [
  {
   "cell_type": "code",
   "execution_count": 195,
   "metadata": {},
   "outputs": [],
   "source": [
    "import pandas as pd\n",
    "import numpy as np\n",
    "from datetime import datetime\n"
   ]
  },
  {
   "cell_type": "code",
   "execution_count": 196,
   "metadata": {},
   "outputs": [
    {
     "data": {
      "text/html": [
       "<div>\n",
       "<style scoped>\n",
       "    .dataframe tbody tr th:only-of-type {\n",
       "        vertical-align: middle;\n",
       "    }\n",
       "\n",
       "    .dataframe tbody tr th {\n",
       "        vertical-align: top;\n",
       "    }\n",
       "\n",
       "    .dataframe thead th {\n",
       "        text-align: right;\n",
       "    }\n",
       "</style>\n",
       "<table border=\"1\" class=\"dataframe\">\n",
       "  <thead>\n",
       "    <tr style=\"text-align: right;\">\n",
       "      <th></th>\n",
       "      <th>datetime</th>\n",
       "      <th>conditions</th>\n",
       "    </tr>\n",
       "  </thead>\n",
       "  <tbody>\n",
       "    <tr>\n",
       "      <th>0</th>\n",
       "      <td>1/1/2000</td>\n",
       "      <td>Partially cloudy</td>\n",
       "    </tr>\n",
       "    <tr>\n",
       "      <th>1</th>\n",
       "      <td>2/1/2000</td>\n",
       "      <td>Clear</td>\n",
       "    </tr>\n",
       "    <tr>\n",
       "      <th>2</th>\n",
       "      <td>3/1/2000</td>\n",
       "      <td>Clear</td>\n",
       "    </tr>\n",
       "    <tr>\n",
       "      <th>3</th>\n",
       "      <td>4/1/2000</td>\n",
       "      <td>Clear</td>\n",
       "    </tr>\n",
       "    <tr>\n",
       "      <th>4</th>\n",
       "      <td>5/1/2000</td>\n",
       "      <td>Clear</td>\n",
       "    </tr>\n",
       "  </tbody>\n",
       "</table>\n",
       "</div>"
      ],
      "text/plain": [
       "   datetime        conditions\n",
       "0  1/1/2000  Partially cloudy\n",
       "1  2/1/2000             Clear\n",
       "2  3/1/2000             Clear\n",
       "3  4/1/2000             Clear\n",
       "4  5/1/2000             Clear"
      ]
     },
     "execution_count": 196,
     "metadata": {},
     "output_type": "execute_result"
    }
   ],
   "source": [
    "all_seasons = pd.read_csv('all_seasons.csv')\n",
    "all_seasons = all_seasons[['datetime','conditions']]\n",
    "all_seasons.head()\n"
   ]
  },
  {
   "cell_type": "code",
   "execution_count": 197,
   "metadata": {},
   "outputs": [
    {
     "data": {
      "text/html": [
       "<div>\n",
       "<style scoped>\n",
       "    .dataframe tbody tr th:only-of-type {\n",
       "        vertical-align: middle;\n",
       "    }\n",
       "\n",
       "    .dataframe tbody tr th {\n",
       "        vertical-align: top;\n",
       "    }\n",
       "\n",
       "    .dataframe thead th {\n",
       "        text-align: right;\n",
       "    }\n",
       "</style>\n",
       "<table border=\"1\" class=\"dataframe\">\n",
       "  <thead>\n",
       "    <tr style=\"text-align: right;\">\n",
       "      <th></th>\n",
       "      <th>datetime</th>\n",
       "      <th>conditions</th>\n",
       "      <th>condition</th>\n",
       "    </tr>\n",
       "  </thead>\n",
       "  <tbody>\n",
       "    <tr>\n",
       "      <th>0</th>\n",
       "      <td>1/1/2000</td>\n",
       "      <td>Partially cloudy</td>\n",
       "      <td>cloudy</td>\n",
       "    </tr>\n",
       "    <tr>\n",
       "      <th>1</th>\n",
       "      <td>2/1/2000</td>\n",
       "      <td>Clear</td>\n",
       "      <td>sunny</td>\n",
       "    </tr>\n",
       "    <tr>\n",
       "      <th>2</th>\n",
       "      <td>3/1/2000</td>\n",
       "      <td>Clear</td>\n",
       "      <td>sunny</td>\n",
       "    </tr>\n",
       "    <tr>\n",
       "      <th>3</th>\n",
       "      <td>4/1/2000</td>\n",
       "      <td>Clear</td>\n",
       "      <td>sunny</td>\n",
       "    </tr>\n",
       "    <tr>\n",
       "      <th>4</th>\n",
       "      <td>5/1/2000</td>\n",
       "      <td>Clear</td>\n",
       "      <td>sunny</td>\n",
       "    </tr>\n",
       "  </tbody>\n",
       "</table>\n",
       "</div>"
      ],
      "text/plain": [
       "   datetime        conditions condition\n",
       "0  1/1/2000  Partially cloudy    cloudy\n",
       "1  2/1/2000             Clear     sunny\n",
       "2  3/1/2000             Clear     sunny\n",
       "3  4/1/2000             Clear     sunny\n",
       "4  5/1/2000             Clear     sunny"
      ]
     },
     "execution_count": 197,
     "metadata": {},
     "output_type": "execute_result"
    }
   ],
   "source": [
    "simplifier = {'Overcast':'cloudy','Partially cloudy':'cloudy','Clear':'sunny','Rain':'rainy','Rain,Partially cloudy':'rainy','Rain,Overcast':'rainy'}\n",
    "all_seasons['condition']= all_seasons['conditions'].map(simplifier)\n",
    "all_seasons.head()"
   ]
  },
  {
   "cell_type": "code",
   "execution_count": 198,
   "metadata": {},
   "outputs": [
    {
     "data": {
      "text/html": [
       "<div>\n",
       "<style scoped>\n",
       "    .dataframe tbody tr th:only-of-type {\n",
       "        vertical-align: middle;\n",
       "    }\n",
       "\n",
       "    .dataframe tbody tr th {\n",
       "        vertical-align: top;\n",
       "    }\n",
       "\n",
       "    .dataframe thead th {\n",
       "        text-align: right;\n",
       "    }\n",
       "</style>\n",
       "<table border=\"1\" class=\"dataframe\">\n",
       "  <thead>\n",
       "    <tr style=\"text-align: right;\">\n",
       "      <th></th>\n",
       "      <th>datetime</th>\n",
       "      <th>condition</th>\n",
       "    </tr>\n",
       "  </thead>\n",
       "  <tbody>\n",
       "    <tr>\n",
       "      <th>0</th>\n",
       "      <td>1/1/2000</td>\n",
       "      <td>cloudy</td>\n",
       "    </tr>\n",
       "    <tr>\n",
       "      <th>1</th>\n",
       "      <td>2/1/2000</td>\n",
       "      <td>sunny</td>\n",
       "    </tr>\n",
       "    <tr>\n",
       "      <th>2</th>\n",
       "      <td>3/1/2000</td>\n",
       "      <td>sunny</td>\n",
       "    </tr>\n",
       "    <tr>\n",
       "      <th>3</th>\n",
       "      <td>4/1/2000</td>\n",
       "      <td>sunny</td>\n",
       "    </tr>\n",
       "    <tr>\n",
       "      <th>4</th>\n",
       "      <td>5/1/2000</td>\n",
       "      <td>sunny</td>\n",
       "    </tr>\n",
       "  </tbody>\n",
       "</table>\n",
       "</div>"
      ],
      "text/plain": [
       "   datetime condition\n",
       "0  1/1/2000    cloudy\n",
       "1  2/1/2000     sunny\n",
       "2  3/1/2000     sunny\n",
       "3  4/1/2000     sunny\n",
       "4  5/1/2000     sunny"
      ]
     },
     "execution_count": 198,
     "metadata": {},
     "output_type": "execute_result"
    }
   ],
   "source": [
    "all_seasons = all_seasons[['datetime','condition']]\n",
    "all_seasons.head()"
   ]
  },
  {
   "cell_type": "code",
   "execution_count": 199,
   "metadata": {},
   "outputs": [
    {
     "data": {
      "text/html": [
       "<div>\n",
       "<style scoped>\n",
       "    .dataframe tbody tr th:only-of-type {\n",
       "        vertical-align: middle;\n",
       "    }\n",
       "\n",
       "    .dataframe tbody tr th {\n",
       "        vertical-align: top;\n",
       "    }\n",
       "\n",
       "    .dataframe thead th {\n",
       "        text-align: right;\n",
       "    }\n",
       "</style>\n",
       "<table border=\"1\" class=\"dataframe\">\n",
       "  <thead>\n",
       "    <tr style=\"text-align: right;\">\n",
       "      <th></th>\n",
       "      <th>datetime</th>\n",
       "      <th>condition</th>\n",
       "    </tr>\n",
       "  </thead>\n",
       "  <tbody>\n",
       "    <tr>\n",
       "      <th>0</th>\n",
       "      <td>2000-01-01</td>\n",
       "      <td>cloudy</td>\n",
       "    </tr>\n",
       "    <tr>\n",
       "      <th>1</th>\n",
       "      <td>2000-01-02</td>\n",
       "      <td>sunny</td>\n",
       "    </tr>\n",
       "    <tr>\n",
       "      <th>2</th>\n",
       "      <td>2000-01-03</td>\n",
       "      <td>sunny</td>\n",
       "    </tr>\n",
       "    <tr>\n",
       "      <th>3</th>\n",
       "      <td>2000-01-04</td>\n",
       "      <td>sunny</td>\n",
       "    </tr>\n",
       "    <tr>\n",
       "      <th>4</th>\n",
       "      <td>2000-01-05</td>\n",
       "      <td>sunny</td>\n",
       "    </tr>\n",
       "    <tr>\n",
       "      <th>...</th>\n",
       "      <td>...</td>\n",
       "      <td>...</td>\n",
       "    </tr>\n",
       "    <tr>\n",
       "      <th>8032</th>\n",
       "      <td>2021-12-28</td>\n",
       "      <td>NaN</td>\n",
       "    </tr>\n",
       "    <tr>\n",
       "      <th>8033</th>\n",
       "      <td>2021-12-29</td>\n",
       "      <td>NaN</td>\n",
       "    </tr>\n",
       "    <tr>\n",
       "      <th>8034</th>\n",
       "      <td>2021-12-30</td>\n",
       "      <td>NaN</td>\n",
       "    </tr>\n",
       "    <tr>\n",
       "      <th>8035</th>\n",
       "      <td>2021-12-31</td>\n",
       "      <td>cloudy</td>\n",
       "    </tr>\n",
       "    <tr>\n",
       "      <th>8036</th>\n",
       "      <td>2022-01-01</td>\n",
       "      <td>cloudy</td>\n",
       "    </tr>\n",
       "  </tbody>\n",
       "</table>\n",
       "<p>8037 rows × 2 columns</p>\n",
       "</div>"
      ],
      "text/plain": [
       "       datetime condition\n",
       "0    2000-01-01    cloudy\n",
       "1    2000-01-02     sunny\n",
       "2    2000-01-03     sunny\n",
       "3    2000-01-04     sunny\n",
       "4    2000-01-05     sunny\n",
       "...         ...       ...\n",
       "8032 2021-12-28       NaN\n",
       "8033 2021-12-29       NaN\n",
       "8034 2021-12-30       NaN\n",
       "8035 2021-12-31    cloudy\n",
       "8036 2022-01-01    cloudy\n",
       "\n",
       "[8037 rows x 2 columns]"
      ]
     },
     "execution_count": 199,
     "metadata": {},
     "output_type": "execute_result"
    }
   ],
   "source": [
    "train_start_date = '1/1/2000'\n",
    "train_end_date = '1/1/2022'\n",
    "train_start_date = pd.to_datetime(train_start_date, format='%d/%m/%Y')\n",
    "train_end_date = pd.to_datetime(train_end_date, format='%d/%m/%Y')\n",
    "all_seasons['datetime'] = pd.to_datetime(all_seasons['datetime'], format='%d/%m/%Y')\n",
    "all_seasons_train = all_seasons.loc[(all_seasons['datetime'] >= train_start_date) & (all_seasons['datetime'] <= train_end_date)]\n",
    "# # เรียงข้อมูลตามวันที่\n",
    "all_seasons_train = all_seasons_train.sort_values(by='datetime')\n",
    "\n",
    "# # รีเซ็ตดัชนี\n",
    "all_seasons_train = all_seasons_train.reset_index(drop=True)\n",
    "\n",
    "\n",
    "\n",
    "all_seasons_train\n"
   ]
  },
  {
   "cell_type": "code",
   "execution_count": 200,
   "metadata": {},
   "outputs": [],
   "source": [
    "#set conditions count S=Sunny R=Rain C=cloudy \n",
    "S_after_S_count=0.0\n",
    "S_after_R_count=0.0\n",
    "S_after_C_count=0.0\n",
    "\n",
    "C_after_S_count=0.0\n",
    "C_after_R_count=0.0\n",
    "C_after_C_count=0.0\n",
    "\n",
    "R_after_S_count=0.0\n",
    "R_after_R_count=0.0\n",
    "R_after_C_count=0.0"
   ]
  },
  {
   "cell_type": "code",
   "execution_count": 201,
   "metadata": {},
   "outputs": [],
   "source": [
    "#count\n",
    "all_seasons_train['condition_shift'] = all_seasons_train['condition'].shift(-1)\n",
    "\n",
    "for i in range (len(all_seasons_train)):\n",
    "    if all_seasons_train.loc[i, 'condition'] == 'sunny' and all_seasons_train.loc[i,'condition_shift'] == 'sunny': \n",
    "        S_after_S_count += 1\n",
    "    elif all_seasons_train.loc[i, 'condition'] == 'sunny' and all_seasons_train.loc[i,'condition_shift'] == 'rainy': \n",
    "        S_after_R_count += 1\n",
    "    elif all_seasons_train.loc[i, 'condition'] == 'sunny' and all_seasons_train.loc[i,'condition_shift'] == 'cloudy': \n",
    "        S_after_C_count += 1\n",
    "    elif all_seasons_train.loc[i, 'condition'] == 'rainy' and all_seasons_train.loc[i,'condition_shift'] == 'rainy': \n",
    "        R_after_R_count += 1\n",
    "    elif all_seasons_train.loc[i, 'condition'] == 'rainy' and all_seasons_train.loc[i,'condition_shift'] == 'sunny': \n",
    "        R_after_S_count += 1 \n",
    "    elif all_seasons_train.loc[i, 'condition'] == 'rainy' and all_seasons_train.loc[i,'condition_shift'] == 'cloudy': \n",
    "        R_after_C_count += 1\n",
    "    elif all_seasons_train.loc[i, 'condition'] == 'cloudy' and all_seasons_train.loc[i,'condition_shift'] == 'rainy': \n",
    "        C_after_R_count += 1\n",
    "    elif all_seasons_train.loc[i, 'condition'] == 'cloudy' and all_seasons_train.loc[i,'condition_shift'] == 'sunny': \n",
    "        C_after_S_count += 1\n",
    "    elif all_seasons_train.loc[i, 'condition'] == 'cloudy' and all_seasons_train.loc[i,'condition_shift'] == 'cloudy': \n",
    "        C_after_C_count += 1"
   ]
  },
  {
   "cell_type": "code",
   "execution_count": 202,
   "metadata": {},
   "outputs": [
    {
     "name": "stdout",
     "output_type": "stream",
     "text": [
      "3159.0\n"
     ]
    }
   ],
   "source": [
    "current_S_total = S_after_S_count + S_after_R_count + S_after_C_count\n",
    "current_R_total = R_after_S_count + R_after_R_count + R_after_C_count\n",
    "current_C_total = C_after_S_count + C_after_R_count + C_after_C_count\n",
    "print(current_C_total)\n"
   ]
  },
  {
   "cell_type": "code",
   "execution_count": 203,
   "metadata": {},
   "outputs": [],
   "source": [
    "S_after_S_prob = S_after_S_count / current_S_total\n",
    "S_after_R_prob = S_after_R_count / current_S_total \n",
    "S_after_C_prob = S_after_C_count / current_S_total\n",
    "\n",
    "R_after_R_prob = R_after_R_count/current_R_total\n",
    "R_after_S_prob = R_after_S_count/current_R_total\n",
    "R_after_C_prob = R_after_C_count/current_R_total\n",
    "\n",
    "C_after_C_prob = C_after_C_count/current_C_total\n",
    "C_after_S_prob = C_after_S_count/current_C_total\n",
    "C_after_R_prob = C_after_R_count/current_C_total\n",
    "\n"
   ]
  },
  {
   "cell_type": "code",
   "execution_count": 204,
   "metadata": {},
   "outputs": [
    {
     "name": "stdout",
     "output_type": "stream",
     "text": [
      "2328.0\n",
      "830.0\n",
      "56.0\n"
     ]
    }
   ],
   "source": [
    "print(S_after_S_count)\n",
    "print(S_after_C_count)\n",
    "print(S_after_R_count)"
   ]
  },
  {
   "cell_type": "code",
   "execution_count": 206,
   "metadata": {},
   "outputs": [
    {
     "name": "stdout",
     "output_type": "stream",
     "text": [
      "0.7243310516490354\n",
      "0.017423771001866834\n",
      "0.2582451773490977\n",
      "0.6691176470588235\n",
      "0.15441176470588236\n",
      "0.17647058823529413\n",
      "0.2241215574548908\n",
      "0.011079455523899969\n",
      "0.7647989870212093\n",
      "1.0\n"
     ]
    }
   ],
   "source": [
    "print(S_after_S_prob)\n",
    "print(S_after_R_prob)\n",
    "print(S_after_C_prob)\n",
    "print(R_after_S_prob)\n",
    "print(R_after_R_prob)\n",
    "print(R_after_C_prob)\n",
    "print(C_after_S_prob)\n",
    "print(C_after_R_prob)\n",
    "print(C_after_C_prob)\n",
    "print(R_after_C_prob+R_after_R_prob+R_after_S_prob)\n",
    "print(S_after_C_prob+S_after_R_prob+S_after_S_prob)\n",
    "print(C_after_C_prob+)"
   ]
  },
  {
   "cell_type": "code",
   "execution_count": null,
   "metadata": {},
   "outputs": [],
   "source": []
  }
 ],
 "metadata": {
  "kernelspec": {
   "display_name": "Python 3",
   "language": "python",
   "name": "python3"
  },
  "language_info": {
   "codemirror_mode": {
    "name": "ipython",
    "version": 3
   },
   "file_extension": ".py",
   "mimetype": "text/x-python",
   "name": "python",
   "nbconvert_exporter": "python",
   "pygments_lexer": "ipython3",
   "version": "3.12.0"
  }
 },
 "nbformat": 4,
 "nbformat_minor": 2
}
